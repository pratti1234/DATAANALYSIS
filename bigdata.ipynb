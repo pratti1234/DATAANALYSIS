{
  "nbformat": 4,
  "nbformat_minor": 0,
  "metadata": {
    "colab": {
      "provenance": []
    },
    "kernelspec": {
      "name": "python3",
      "display_name": "Python 3"
    },
    "language_info": {
      "name": "python"
    }
  },
  "cells": [
    {
      "cell_type": "code",
      "execution_count": null,
      "metadata": {
        "colab": {
          "base_uri": "https://localhost:8080/"
        },
        "id": "GBL3kFcaLOny",
        "outputId": "0fcec387-9176-403c-cb12-e3a31222ecb3"
      },
      "outputs": [
        {
          "output_type": "stream",
          "name": "stdout",
          "text": [
            "volume of data: 1000000\n"
          ]
        }
      ],
      "source": [
        "import numpy as np\n",
        "#generate a large volume of random data(eg.,1 million dta points)\n",
        "volume_data=np.random.rand(1000000)\n",
        "print(\"volume of data:\",len(volume_data))\n"
      ]
    },
    {
      "cell_type": "code",
      "source": [
        "import time\n",
        "#stimulate streaming data every second for 10 seconds\n",
        "for i in range(10):\n",
        "  velocity_data=np.random.rand()#generate random data\n",
        "  print(\"velocity data point:\",velocity_data)\n",
        "  time.sleep(2)#wait for 1 second to stimulate real_time stream"
      ],
      "metadata": {
        "colab": {
          "base_uri": "https://localhost:8080/"
        },
        "id": "b-qEW7KHLv3I",
        "outputId": "099d991c-cd0e-4c09-d77c-e14f981478da"
      },
      "execution_count": null,
      "outputs": [
        {
          "output_type": "stream",
          "name": "stdout",
          "text": [
            "velocity data point: 0.8631662709891862\n",
            "velocity data point: 0.8438782533625471\n",
            "velocity data point: 0.9517708433074079\n",
            "velocity data point: 0.8294619581518856\n",
            "velocity data point: 0.8435704274086581\n",
            "velocity data point: 0.9974792817082893\n",
            "velocity data point: 0.2814148269141179\n",
            "velocity data point: 0.47413932585753804\n",
            "velocity data point: 0.6831619926754111\n",
            "velocity data point: 0.24800706094475145\n"
          ]
        }
      ]
    },
    {
      "cell_type": "code",
      "source": [
        "#structured data\n",
        "structured_data={'id':1,'name':'john','age':30}\n",
        "print(structured_data)\n",
        "#semi structured data(JSON)'\n",
        "semi_structured_data={'person':{'name':'Alice','age':25,'city':'new york'}}\n",
        "print(semi_structured_data)\n",
        "#unstructured data\n",
        "unstructured_data=\"this is sample text document.it can contain any information in free form \"\n",
        "print()"
      ],
      "metadata": {
        "colab": {
          "base_uri": "https://localhost:8080/"
        },
        "id": "8MVjEGb1NJDg",
        "outputId": "df077873-7b5c-4254-b0eb-7baee06babf1"
      },
      "execution_count": null,
      "outputs": [
        {
          "output_type": "stream",
          "name": "stdout",
          "text": [
            "{'id': 1, 'name': 'john', 'age': 30}\n",
            "{'person': {'name': 'Alice', 'age': 25, 'city': 'new york'}}\n"
          ]
        }
      ]
    },
    {
      "cell_type": "code",
      "source": [
        "import random\n",
        "#generate some random data with noise\n",
        "veracity_data=[random.choice([1,2,3,None]) for _ in range(20)]\n",
        "print(\"Veracity data:\",veracity_data)"
      ],
      "metadata": {
        "colab": {
          "base_uri": "https://localhost:8080/"
        },
        "id": "7M7SyyMEOzbJ",
        "outputId": "b071cc8f-0a7a-4d7e-9102-2ab8c4275cfc"
      },
      "execution_count": null,
      "outputs": [
        {
          "output_type": "stream",
          "name": "stdout",
          "text": [
            "Veracity data: [2, 1, None, 1, 1, 1, 3, 2, 3, 3, 2, None, 2, 1, 1, 2, None, 3, 2, None]\n"
          ]
        }
      ]
    }
  ]
}