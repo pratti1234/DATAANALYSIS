{
  "nbformat": 4,
  "nbformat_minor": 0,
  "metadata": {
    "colab": {
      "provenance": []
    },
    "kernelspec": {
      "name": "python3",
      "display_name": "Python 3"
    },
    "language_info": {
      "name": "python"
    }
  },
  "cells": [
    {
      "cell_type": "code",
      "execution_count": null,
      "metadata": {
        "id": "5vy3wXfV1zIe"
      },
      "outputs": [],
      "source": [
        "import tensorflow as tf\n",
        "from tensorflow import keras\n",
        "from tensorflow.keras import layers\n",
        "from tensorflow.keras.preprocessing.image import ImageDataGenerator\n",
        "#define image size and batch size\n",
        "IMG_SIZE=224\n",
        "BATCH_SIZE=32"
      ]
    },
    {
      "cell_type": "code",
      "source": [
        "#define data generator for train,validation and test sets\n",
        "train_datagen=ImageDataGenerator(rescale=1./225,validation_split=0.2)\n",
        "train_generator=train_datagen.flow_from_directory(\"/content/drive/MyDrive/dataset/horse-or-human/train\",\n",
        "target_size=(IMG_SIZE,IMG_SIZE),\n",
        "batch_size=BATCH_SIZE,\n",
        "class_mode='binary',\n",
        "subset='validation'\n",
        ")\n",
        "validate_generator=train_datagen.flow_from_directory(\"/content/drive/MyDrive/dataset/horse-or-human/train\",\n",
        "target_size=(IMG_SIZE,IMG_SIZE),\n",
        "batch_size=BATCH_SIZE,\n",
        "class_mode='binary',\n",
        "subset='validation'\n",
        ")\n",
        "test_datagen=ImageDataGenerator(rescale=1./225)\n",
        "test_generator=train_datagen.flow_from_directory(\"/content/drive/MyDrive/dataset/horse-or-human/train\",\n",
        "target_size=(IMG_SIZE,IMG_SIZE),\n",
        "batch_size=BATCH_SIZE,\n",
        "class_mode='binary',\n",
        "subset='validation'\n",
        ")\n"
      ],
      "metadata": {
        "id": "gs3znsMk3L7o",
        "colab": {
          "base_uri": "https://localhost:8080/"
        },
        "outputId": "634d9425-1ddb-4e7a-a255-675527ec014c"
      },
      "execution_count": null,
      "outputs": [
        {
          "output_type": "stream",
          "name": "stdout",
          "text": [
            "Found 205 images belonging to 2 classes.\n",
            "Found 205 images belonging to 2 classes.\n",
            "Found 205 images belonging to 2 classes.\n"
          ]
        }
      ]
    },
    {
      "cell_type": "code",
      "source": [
        "#define model\n",
        "model=keras.Sequential([\n",
        "layers.Conv2D(32,(3,3),activation='relu',input_shape=(IMG_SIZE,IMG_SIZE,3)),\n",
        "layers.MaxPooling2D((2,2)),\n",
        "layers.Conv2D(64,(3,3),activation='relu'),\n",
        "layers.MaxPooling2D((2,2)),\n",
        "layers.Conv2D(128,(3,3),activation='relu'),\n",
        "layers.MaxPooling2D((2,2)),\n",
        "layers.Flatten(),\n",
        "layers.Dense(128,activation='relu'),\n",
        "layers.Dense(1,activation='sigmoid')\n",
        "])"
      ],
      "metadata": {
        "id": "K8rVKASe9paR"
      },
      "execution_count": null,
      "outputs": []
    },
    {
      "cell_type": "code",
      "source": [
        "#compile the model\n",
        "model.compile(optimizer='adam',loss='binary_crossentropy',metrics=['accuracy'])"
      ],
      "metadata": {
        "id": "b7JL56IEBOZc"
      },
      "execution_count": null,
      "outputs": []
    },
    {
      "cell_type": "code",
      "source": [
        "history=model.fit(train_generator,validation_data=validate_generator,epochs=5)"
      ],
      "metadata": {
        "colab": {
          "base_uri": "https://localhost:8080/"
        },
        "id": "FesTKKFRCU-Y",
        "outputId": "0aa08a37-eb16-407f-9872-3e5e891696f4"
      },
      "execution_count": null,
      "outputs": [
        {
          "output_type": "stream",
          "name": "stdout",
          "text": [
            "Epoch 1/5\n",
            "7/7 [==============================] - 40s 5s/step - loss: 1.0487 - accuracy: 0.5122 - val_loss: 0.7556 - val_accuracy: 0.4878\n",
            "Epoch 2/5\n",
            "7/7 [==============================] - 33s 5s/step - loss: 0.6189 - accuracy: 0.6780 - val_loss: 0.3735 - val_accuracy: 0.9317\n",
            "Epoch 3/5\n",
            "7/7 [==============================] - 34s 5s/step - loss: 0.3271 - accuracy: 0.9073 - val_loss: 0.1343 - val_accuracy: 0.9415\n",
            "Epoch 4/5\n",
            "7/7 [==============================] - 32s 5s/step - loss: 0.1356 - accuracy: 0.9512 - val_loss: 0.0665 - val_accuracy: 0.9805\n",
            "Epoch 5/5\n",
            "7/7 [==============================] - 30s 4s/step - loss: 0.0361 - accuracy: 0.9951 - val_loss: 0.0468 - val_accuracy: 1.0000\n"
          ]
        }
      ]
    },
    {
      "cell_type": "code",
      "source": [
        "model.save(\"Model.h5\",\"label.txt\")"
      ],
      "metadata": {
        "colab": {
          "base_uri": "https://localhost:8080/"
        },
        "id": "ids8nmJNF0W5",
        "outputId": "714f1058-11b3-4135-8b83-ea04c978c04e"
      },
      "execution_count": null,
      "outputs": [
        {
          "output_type": "stream",
          "name": "stderr",
          "text": [
            "/usr/local/lib/python3.10/dist-packages/keras/src/engine/training.py:3103: UserWarning: You are saving your model as an HDF5 file via `model.save()`. This file format is considered legacy. We recommend using instead the native Keras format, e.g. `model.save('my_model.keras')`.\n",
            "  saving_api.save_model(\n"
          ]
        }
      ]
    },
    {
      "cell_type": "code",
      "source": [
        "from tensorflow.keras.models import load_model\n",
        "from tensorflow.keras.preprocessing import image\n",
        "import numpy as np\n",
        "#load the saved model\n",
        "model=load_model('/content/Model.h5')\n",
        "#load and preprocess the test image\n",
        "test_image_path='/content/drive/MyDrive/dataset/horse-or-human/train/humans/human01-01.png'\n",
        "img=image.load_img(test_image_path,target_size=(224,224))\n",
        "img_array=image.img_to_array(img)\n",
        "img_array=np.expand_dims(img_array,axis=0)#add batch dimensions\n",
        "img_array/=255.#Normalise the pixel values\n",
        "#make predictions\n",
        "prediction=model.predict(img_array)\n",
        "#print the prediction\n",
        "if prediction<0.5:\n",
        "    print(\"prediction: horse (Probability:\",prediction[0][0],\")\")\n",
        "else:\n",
        "   print(\"prediction: man present (Probability:\",prediction[0][0],\")\")\n",
        "\n"
      ],
      "metadata": {
        "id": "9Xopas4aGQTX",
        "outputId": "ed24599c-17d4-49d4-986b-bf012ddaf611",
        "colab": {
          "base_uri": "https://localhost:8080/"
        }
      },
      "execution_count": null,
      "outputs": [
        {
          "output_type": "stream",
          "name": "stdout",
          "text": [
            "1/1 [==============================] - 0s 104ms/step\n",
            "prediction: man present (Probability: 0.90157765 )\n"
          ]
        }
      ]
    }
  ]
}