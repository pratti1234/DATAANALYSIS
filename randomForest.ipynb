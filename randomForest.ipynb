{
  "nbformat": 4,
  "nbformat_minor": 0,
  "metadata": {
    "colab": {
      "provenance": []
    },
    "kernelspec": {
      "name": "python3",
      "display_name": "Python 3"
    },
    "language_info": {
      "name": "python"
    }
  },
  "cells": [
    {
      "cell_type": "code",
      "execution_count": null,
      "metadata": {
        "id": "x3A1etsWO31P"
      },
      "outputs": [],
      "source": [
        "#load libraries\n",
        "import pandas as pd\n",
        "import numpy as np\n",
        "from sklearn.ensemble import RandomForestClassifier\n",
        "\n"
      ]
    },
    {
      "cell_type": "code",
      "source": [
        "df=pd.read_csv(\"/content/demoDT.csv\",sep=\",\")\n",
        "print(df)"
      ],
      "metadata": {
        "colab": {
          "base_uri": "https://localhost:8080/"
        },
        "id": "X3MKHq3sPxhJ",
        "outputId": "1d06e97f-b33a-45d7-d4e9-2d530d33f3f9"
      },
      "execution_count": null,
      "outputs": [
        {
          "output_type": "stream",
          "name": "stdout",
          "text": [
            "   State  Literacy   Cleanliness   Crime_Rate  good\n",
            "0      A        92            90           54     0\n",
            "1      B        56            67           50     1\n",
            "2      C        78            80           62     0\n",
            "3      D        85            75           48     1\n",
            "4      E        60            82           55     0\n",
            "5      F        72            78           60     0\n",
            "6      G        88            85           45     0\n",
            "7      H        64            70           58     1\n",
            "8      I        90            88           42     0\n",
            "9      J        68            72           65     1\n",
            "10     K        75            79           57     0\n",
            "11     L        82            86           49     0\n",
            "12     M        58            65           63     1\n",
            "13     N        77            76           52     0\n",
            "14     O        94            91           40     0\n",
            "15     P        63            74           61     0\n",
            "16     Q        79            83           47     0\n",
            "17     R        71            68           59     1\n",
            "18     S        86            89           43     0\n",
            "19     T        66            71           64     0\n",
            "20     U        81            81           51     1\n",
            "21     V        70            77           56     0\n",
            "22     W        87            84           46     1\n",
            "23     X        62            69           66     0\n",
            "24     Y        76            73           53     1\n",
            "25     Z        83            87           44     1\n"
          ]
        }
      ]
    },
    {
      "cell_type": "code",
      "source": [
        "feature_cols=['Literacy',' Cleanliness',' Crime_Rate']\n",
        "feature=df[feature_cols]#features\n",
        "Target=df.good#target variable"
      ],
      "metadata": {
        "id": "7S71-2b3PzDM"
      },
      "execution_count": null,
      "outputs": []
    },
    {
      "cell_type": "code",
      "source": [
        "#create decision tree classifier\n",
        "RF=RandomForestClassifier()\n",
        "#train decision tree classifier\n",
        "RF.fit(feature,Target)"
      ],
      "metadata": {
        "colab": {
          "base_uri": "https://localhost:8080/",
          "height": 74
        },
        "id": "rAS8L9KRP8hi",
        "outputId": "5914f797-5adc-4084-93d2-38190a13207a"
      },
      "execution_count": null,
      "outputs": [
        {
          "output_type": "execute_result",
          "data": {
            "text/plain": [
              "RandomForestClassifier()"
            ],
            "text/html": [
              "<style>#sk-container-id-1 {color: black;background-color: white;}#sk-container-id-1 pre{padding: 0;}#sk-container-id-1 div.sk-toggleable {background-color: white;}#sk-container-id-1 label.sk-toggleable__label {cursor: pointer;display: block;width: 100%;margin-bottom: 0;padding: 0.3em;box-sizing: border-box;text-align: center;}#sk-container-id-1 label.sk-toggleable__label-arrow:before {content: \"▸\";float: left;margin-right: 0.25em;color: #696969;}#sk-container-id-1 label.sk-toggleable__label-arrow:hover:before {color: black;}#sk-container-id-1 div.sk-estimator:hover label.sk-toggleable__label-arrow:before {color: black;}#sk-container-id-1 div.sk-toggleable__content {max-height: 0;max-width: 0;overflow: hidden;text-align: left;background-color: #f0f8ff;}#sk-container-id-1 div.sk-toggleable__content pre {margin: 0.2em;color: black;border-radius: 0.25em;background-color: #f0f8ff;}#sk-container-id-1 input.sk-toggleable__control:checked~div.sk-toggleable__content {max-height: 200px;max-width: 100%;overflow: auto;}#sk-container-id-1 input.sk-toggleable__control:checked~label.sk-toggleable__label-arrow:before {content: \"▾\";}#sk-container-id-1 div.sk-estimator input.sk-toggleable__control:checked~label.sk-toggleable__label {background-color: #d4ebff;}#sk-container-id-1 div.sk-label input.sk-toggleable__control:checked~label.sk-toggleable__label {background-color: #d4ebff;}#sk-container-id-1 input.sk-hidden--visually {border: 0;clip: rect(1px 1px 1px 1px);clip: rect(1px, 1px, 1px, 1px);height: 1px;margin: -1px;overflow: hidden;padding: 0;position: absolute;width: 1px;}#sk-container-id-1 div.sk-estimator {font-family: monospace;background-color: #f0f8ff;border: 1px dotted black;border-radius: 0.25em;box-sizing: border-box;margin-bottom: 0.5em;}#sk-container-id-1 div.sk-estimator:hover {background-color: #d4ebff;}#sk-container-id-1 div.sk-parallel-item::after {content: \"\";width: 100%;border-bottom: 1px solid gray;flex-grow: 1;}#sk-container-id-1 div.sk-label:hover label.sk-toggleable__label {background-color: #d4ebff;}#sk-container-id-1 div.sk-serial::before {content: \"\";position: absolute;border-left: 1px solid gray;box-sizing: border-box;top: 0;bottom: 0;left: 50%;z-index: 0;}#sk-container-id-1 div.sk-serial {display: flex;flex-direction: column;align-items: center;background-color: white;padding-right: 0.2em;padding-left: 0.2em;position: relative;}#sk-container-id-1 div.sk-item {position: relative;z-index: 1;}#sk-container-id-1 div.sk-parallel {display: flex;align-items: stretch;justify-content: center;background-color: white;position: relative;}#sk-container-id-1 div.sk-item::before, #sk-container-id-1 div.sk-parallel-item::before {content: \"\";position: absolute;border-left: 1px solid gray;box-sizing: border-box;top: 0;bottom: 0;left: 50%;z-index: -1;}#sk-container-id-1 div.sk-parallel-item {display: flex;flex-direction: column;z-index: 1;position: relative;background-color: white;}#sk-container-id-1 div.sk-parallel-item:first-child::after {align-self: flex-end;width: 50%;}#sk-container-id-1 div.sk-parallel-item:last-child::after {align-self: flex-start;width: 50%;}#sk-container-id-1 div.sk-parallel-item:only-child::after {width: 0;}#sk-container-id-1 div.sk-dashed-wrapped {border: 1px dashed gray;margin: 0 0.4em 0.5em 0.4em;box-sizing: border-box;padding-bottom: 0.4em;background-color: white;}#sk-container-id-1 div.sk-label label {font-family: monospace;font-weight: bold;display: inline-block;line-height: 1.2em;}#sk-container-id-1 div.sk-label-container {text-align: center;}#sk-container-id-1 div.sk-container {/* jupyter's `normalize.less` sets `[hidden] { display: none; }` but bootstrap.min.css set `[hidden] { display: none !important; }` so we also need the `!important` here to be able to override the default hidden behavior on the sphinx rendered scikit-learn.org. See: https://github.com/scikit-learn/scikit-learn/issues/21755 */display: inline-block !important;position: relative;}#sk-container-id-1 div.sk-text-repr-fallback {display: none;}</style><div id=\"sk-container-id-1\" class=\"sk-top-container\"><div class=\"sk-text-repr-fallback\"><pre>RandomForestClassifier()</pre><b>In a Jupyter environment, please rerun this cell to show the HTML representation or trust the notebook. <br />On GitHub, the HTML representation is unable to render, please try loading this page with nbviewer.org.</b></div><div class=\"sk-container\" hidden><div class=\"sk-item\"><div class=\"sk-estimator sk-toggleable\"><input class=\"sk-toggleable__control sk-hidden--visually\" id=\"sk-estimator-id-1\" type=\"checkbox\" checked><label for=\"sk-estimator-id-1\" class=\"sk-toggleable__label sk-toggleable__label-arrow\">RandomForestClassifier</label><div class=\"sk-toggleable__content\"><pre>RandomForestClassifier()</pre></div></div></div></div></div>"
            ]
          },
          "metadata": {},
          "execution_count": 4
        }
      ]
    },
    {
      "cell_type": "code",
      "source": [
        "l=int(input(\"Entry Literacy:\"))\n",
        "cl=int(input(\"Enter Cleanliness:\"))\n",
        "cr=int(input(\"Enter crimerate:\"))\n",
        "pred=RF.predict([[l,cl,cr]])\n",
        "if pred==1:\n",
        "  print(\"good state\")\n",
        "else:\n",
        "  print(\"Bad state\")"
      ],
      "metadata": {
        "colab": {
          "base_uri": "https://localhost:8080/"
        },
        "id": "eby3XNQJQWwc",
        "outputId": "d5bb3220-755c-49f7-82ba-3258ec99b9de"
      },
      "execution_count": null,
      "outputs": [
        {
          "output_type": "stream",
          "name": "stdout",
          "text": [
            "Entry Literacy:92\n",
            "Enter Cleanliness:90\n",
            "Enter crimerate:54\n",
            "Bad state\n"
          ]
        },
        {
          "output_type": "stream",
          "name": "stderr",
          "text": [
            "/usr/local/lib/python3.10/dist-packages/sklearn/base.py:439: UserWarning: X does not have valid feature names, but RandomForestClassifier was fitted with feature names\n",
            "  warnings.warn(\n"
          ]
        }
      ]
    },
    {
      "cell_type": "code",
      "source": [
        "#saving all decisions trees\n",
        "import os\n",
        "output_dir=\"tree_visualizations\"\n",
        "os.makedirs(output_dir,exist_ok=True)"
      ],
      "metadata": {
        "id": "CZHvwUhuQ-cG"
      },
      "execution_count": null,
      "outputs": []
    },
    {
      "cell_type": "code",
      "source": [
        "RF.estimators_#model name df"
      ],
      "metadata": {
        "colab": {
          "base_uri": "https://localhost:8080/"
        },
        "id": "qRNnDi2RRd1I",
        "outputId": "98fc330b-3b17-4086-921b-1c7224aac55b"
      },
      "execution_count": null,
      "outputs": [
        {
          "output_type": "execute_result",
          "data": {
            "text/plain": [
              "[DecisionTreeClassifier(max_features='sqrt', random_state=1504381264),\n",
              " DecisionTreeClassifier(max_features='sqrt', random_state=1157157180),\n",
              " DecisionTreeClassifier(max_features='sqrt', random_state=235939105),\n",
              " DecisionTreeClassifier(max_features='sqrt', random_state=1427488336),\n",
              " DecisionTreeClassifier(max_features='sqrt', random_state=1360223678),\n",
              " DecisionTreeClassifier(max_features='sqrt', random_state=219549393),\n",
              " DecisionTreeClassifier(max_features='sqrt', random_state=1460789126),\n",
              " DecisionTreeClassifier(max_features='sqrt', random_state=630487191),\n",
              " DecisionTreeClassifier(max_features='sqrt', random_state=131336180),\n",
              " DecisionTreeClassifier(max_features='sqrt', random_state=1611845658),\n",
              " DecisionTreeClassifier(max_features='sqrt', random_state=357270009),\n",
              " DecisionTreeClassifier(max_features='sqrt', random_state=720570151),\n",
              " DecisionTreeClassifier(max_features='sqrt', random_state=2100852610),\n",
              " DecisionTreeClassifier(max_features='sqrt', random_state=2018669063),\n",
              " DecisionTreeClassifier(max_features='sqrt', random_state=1995751569),\n",
              " DecisionTreeClassifier(max_features='sqrt', random_state=334783552),\n",
              " DecisionTreeClassifier(max_features='sqrt', random_state=1636883269),\n",
              " DecisionTreeClassifier(max_features='sqrt', random_state=1105974740),\n",
              " DecisionTreeClassifier(max_features='sqrt', random_state=165959698),\n",
              " DecisionTreeClassifier(max_features='sqrt', random_state=903607402),\n",
              " DecisionTreeClassifier(max_features='sqrt', random_state=1710755655),\n",
              " DecisionTreeClassifier(max_features='sqrt', random_state=1817140503),\n",
              " DecisionTreeClassifier(max_features='sqrt', random_state=1628935994),\n",
              " DecisionTreeClassifier(max_features='sqrt', random_state=363282595),\n",
              " DecisionTreeClassifier(max_features='sqrt', random_state=1050699275),\n",
              " DecisionTreeClassifier(max_features='sqrt', random_state=231781003),\n",
              " DecisionTreeClassifier(max_features='sqrt', random_state=90364494),\n",
              " DecisionTreeClassifier(max_features='sqrt', random_state=461224093),\n",
              " DecisionTreeClassifier(max_features='sqrt', random_state=1145588387),\n",
              " DecisionTreeClassifier(max_features='sqrt', random_state=801713357),\n",
              " DecisionTreeClassifier(max_features='sqrt', random_state=122826653),\n",
              " DecisionTreeClassifier(max_features='sqrt', random_state=481446402),\n",
              " DecisionTreeClassifier(max_features='sqrt', random_state=297077638),\n",
              " DecisionTreeClassifier(max_features='sqrt', random_state=407643076),\n",
              " DecisionTreeClassifier(max_features='sqrt', random_state=52182468),\n",
              " DecisionTreeClassifier(max_features='sqrt', random_state=172911033),\n",
              " DecisionTreeClassifier(max_features='sqrt', random_state=1009968317),\n",
              " DecisionTreeClassifier(max_features='sqrt', random_state=219142553),\n",
              " DecisionTreeClassifier(max_features='sqrt', random_state=36932429),\n",
              " DecisionTreeClassifier(max_features='sqrt', random_state=445157445),\n",
              " DecisionTreeClassifier(max_features='sqrt', random_state=1650695235),\n",
              " DecisionTreeClassifier(max_features='sqrt', random_state=1743037007),\n",
              " DecisionTreeClassifier(max_features='sqrt', random_state=41360327),\n",
              " DecisionTreeClassifier(max_features='sqrt', random_state=1053214356),\n",
              " DecisionTreeClassifier(max_features='sqrt', random_state=575130645),\n",
              " DecisionTreeClassifier(max_features='sqrt', random_state=193469653),\n",
              " DecisionTreeClassifier(max_features='sqrt', random_state=2095408769),\n",
              " DecisionTreeClassifier(max_features='sqrt', random_state=1107173420),\n",
              " DecisionTreeClassifier(max_features='sqrt', random_state=252254151),\n",
              " DecisionTreeClassifier(max_features='sqrt', random_state=1329441221),\n",
              " DecisionTreeClassifier(max_features='sqrt', random_state=368984512),\n",
              " DecisionTreeClassifier(max_features='sqrt', random_state=626106981),\n",
              " DecisionTreeClassifier(max_features='sqrt', random_state=1385144865),\n",
              " DecisionTreeClassifier(max_features='sqrt', random_state=1263268962),\n",
              " DecisionTreeClassifier(max_features='sqrt', random_state=1711015266),\n",
              " DecisionTreeClassifier(max_features='sqrt', random_state=1082170746),\n",
              " DecisionTreeClassifier(max_features='sqrt', random_state=1999900628),\n",
              " DecisionTreeClassifier(max_features='sqrt', random_state=1221176486),\n",
              " DecisionTreeClassifier(max_features='sqrt', random_state=363954320),\n",
              " DecisionTreeClassifier(max_features='sqrt', random_state=1774536893),\n",
              " DecisionTreeClassifier(max_features='sqrt', random_state=1672712202),\n",
              " DecisionTreeClassifier(max_features='sqrt', random_state=1132715915),\n",
              " DecisionTreeClassifier(max_features='sqrt', random_state=1753404415),\n",
              " DecisionTreeClassifier(max_features='sqrt', random_state=1870809799),\n",
              " DecisionTreeClassifier(max_features='sqrt', random_state=1520694544),\n",
              " DecisionTreeClassifier(max_features='sqrt', random_state=11784326),\n",
              " DecisionTreeClassifier(max_features='sqrt', random_state=2131919506),\n",
              " DecisionTreeClassifier(max_features='sqrt', random_state=1361834445),\n",
              " DecisionTreeClassifier(max_features='sqrt', random_state=1128608600),\n",
              " DecisionTreeClassifier(max_features='sqrt', random_state=2086927314),\n",
              " DecisionTreeClassifier(max_features='sqrt', random_state=409593087),\n",
              " DecisionTreeClassifier(max_features='sqrt', random_state=1312901531),\n",
              " DecisionTreeClassifier(max_features='sqrt', random_state=1918786667),\n",
              " DecisionTreeClassifier(max_features='sqrt', random_state=234990829),\n",
              " DecisionTreeClassifier(max_features='sqrt', random_state=479601584),\n",
              " DecisionTreeClassifier(max_features='sqrt', random_state=1756781929),\n",
              " DecisionTreeClassifier(max_features='sqrt', random_state=1170639380),\n",
              " DecisionTreeClassifier(max_features='sqrt', random_state=1538799326),\n",
              " DecisionTreeClassifier(max_features='sqrt', random_state=688248269),\n",
              " DecisionTreeClassifier(max_features='sqrt', random_state=2001044060),\n",
              " DecisionTreeClassifier(max_features='sqrt', random_state=946483408),\n",
              " DecisionTreeClassifier(max_features='sqrt', random_state=1475294623),\n",
              " DecisionTreeClassifier(max_features='sqrt', random_state=849217978),\n",
              " DecisionTreeClassifier(max_features='sqrt', random_state=1199093054),\n",
              " DecisionTreeClassifier(max_features='sqrt', random_state=1603635790),\n",
              " DecisionTreeClassifier(max_features='sqrt', random_state=791669993),\n",
              " DecisionTreeClassifier(max_features='sqrt', random_state=1131179202),\n",
              " DecisionTreeClassifier(max_features='sqrt', random_state=2142212399),\n",
              " DecisionTreeClassifier(max_features='sqrt', random_state=73293265),\n",
              " DecisionTreeClassifier(max_features='sqrt', random_state=470557102),\n",
              " DecisionTreeClassifier(max_features='sqrt', random_state=1491581131),\n",
              " DecisionTreeClassifier(max_features='sqrt', random_state=1127010964),\n",
              " DecisionTreeClassifier(max_features='sqrt', random_state=945457562),\n",
              " DecisionTreeClassifier(max_features='sqrt', random_state=697684245),\n",
              " DecisionTreeClassifier(max_features='sqrt', random_state=9092909),\n",
              " DecisionTreeClassifier(max_features='sqrt', random_state=544560547),\n",
              " DecisionTreeClassifier(max_features='sqrt', random_state=1309808809),\n",
              " DecisionTreeClassifier(max_features='sqrt', random_state=883926183),\n",
              " DecisionTreeClassifier(max_features='sqrt', random_state=1108903297),\n",
              " DecisionTreeClassifier(max_features='sqrt', random_state=1004111719)]"
            ]
          },
          "metadata": {},
          "execution_count": 8
        }
      ]
    }
  ]
}